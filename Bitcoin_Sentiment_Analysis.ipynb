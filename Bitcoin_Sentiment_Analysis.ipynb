{
  "nbformat": 4,
  "nbformat_minor": 0,
  "metadata": {
    "colab": {
      "provenance": [],
      "authorship_tag": "ABX9TyMYqbqCurPcZ9Ty/+vKySQh",
      "include_colab_link": true
    },
    "kernelspec": {
      "name": "python3",
      "display_name": "Python 3"
    },
    "language_info": {
      "name": "python"
    }
  },
  "cells": [
    {
      "cell_type": "markdown",
      "metadata": {
        "id": "view-in-github",
        "colab_type": "text"
      },
      "source": [
        "<a href=\"https://colab.research.google.com/github/jamesodukoya/BitcoinPricePrediction/blob/main/Bitcoin_Sentiment_Analysis.ipynb\" target=\"_parent\"><img src=\"https://colab.research.google.com/assets/colab-badge.svg\" alt=\"Open In Colab\"/></a>"
      ]
    },
    {
      "cell_type": "markdown",
      "source": [
        "#Bitcoin Sentiment Analysis Based on Wiki Entries"
      ],
      "metadata": {
        "id": "AR0xN8pNiNfP"
      }
    },
    {
      "cell_type": "markdown",
      "source": [
        "##Installing Wikipedia Package"
      ],
      "metadata": {
        "id": "gc11BJpQ3Ktl"
      }
    },
    {
      "cell_type": "code",
      "source": [
        "!pip install mwclient"
      ],
      "metadata": {
        "id": "qP4BUEh00ZBN"
      },
      "execution_count": null,
      "outputs": []
    },
    {
      "cell_type": "markdown",
      "source": [
        "##Downloading Bitcoin Wikipedia Page Edits"
      ],
      "metadata": {
        "id": "yVfO8gsr3Ubq"
      }
    },
    {
      "cell_type": "code",
      "source": [
        "import mwclient\n",
        "import time\n",
        "\n",
        "site=mwclient.Site('en.wikipedia.org')\n",
        "page=site.pages[\"Bitcoin\"]"
      ],
      "metadata": {
        "id": "98dQcSYZibSm"
      },
      "execution_count": null,
      "outputs": []
    },
    {
      "cell_type": "code",
      "source": [
        "revs=list(page.revisions())"
      ],
      "metadata": {
        "id": "7yjvu4xs1dOQ"
      },
      "execution_count": null,
      "outputs": []
    },
    {
      "cell_type": "code",
      "source": [
        "revs[0]"
      ],
      "metadata": {
        "id": "uNNrWNFG14cM"
      },
      "execution_count": null,
      "outputs": []
    },
    {
      "cell_type": "code",
      "source": [
        "revs=sorted(revs, key=lambda rev: rev['timestamp'])"
      ],
      "metadata": {
        "id": "hv2UDWvq2XFZ"
      },
      "execution_count": null,
      "outputs": []
    },
    {
      "cell_type": "markdown",
      "source": [
        "##Determining the Sentiment of Each Edit Using Transformers Package"
      ],
      "metadata": {
        "id": "ZOh_d2MI8t-I"
      }
    },
    {
      "cell_type": "code",
      "source": [
        "from transformers import pipeline"
      ],
      "metadata": {
        "id": "4w-Qa_aC9IB6"
      },
      "execution_count": null,
      "outputs": []
    },
    {
      "cell_type": "code",
      "source": [
        "sentiment_pipeline=pipeline(\"sentiment-analysis\")\n",
        "\n",
        "def find_sentiment(text):\n",
        "  sent=sentiment_pipeline([text[:250]])[0]\n",
        "  score=sent['score']\n",
        "  if sent['label']=='NEGATIVE':\n",
        "    score*=-1\n",
        "  return score"
      ],
      "metadata": {
        "id": "UHNJkLsk9WHH"
      },
      "execution_count": null,
      "outputs": []
    },
    {
      "cell_type": "markdown",
      "source": [
        "###Calculate Total Number of Edits Per Day"
      ],
      "metadata": {
        "id": "fj5hsaIOLeNy"
      }
    },
    {
      "cell_type": "code",
      "source": [
        "edits = {}\n",
        "\n",
        "for rev in revs:\n",
        "    date = time.strftime(\"%Y-%m-%d\", rev[\"timestamp\"])\n",
        "    if date not in edits:\n",
        "        edits[date] = dict(sentiments=list(), edit_count=0)\n",
        "\n",
        "    edits[date][\"edit_count\"] += 1\n",
        "\n",
        "    comment = rev.get(\"comment\", \"\")\n",
        "    edits[date][\"sentiments\"].append(find_sentiment(comment))"
      ],
      "metadata": {
        "id": "hr1__MDyGsBL"
      },
      "execution_count": null,
      "outputs": []
    },
    {
      "cell_type": "markdown",
      "source": [
        "###Determine the Average Sentiment Score Per Day"
      ],
      "metadata": {
        "id": "E1sQECY3LwME"
      }
    },
    {
      "cell_type": "code",
      "source": [
        "from statistics import mean\n",
        "\n",
        "for key in edits:\n",
        "    if len(edits[key][\"sentiments\"]) > 0:\n",
        "        edits[key][\"sentiment\"] = mean(edits[key][\"sentiments\"])\n",
        "        edits[key][\"neg_sentiment\"] = len([s for s in edits[key][\"sentiments\"] if s < 0]) / len(edits[key][\"sentiments\"])\n",
        "    else:\n",
        "        edits[key][\"sentiment\"] = 0\n",
        "        edits[key][\"neg_sentiment\"] = 0\n",
        "\n",
        "    del edits[key][\"sentiments\"]"
      ],
      "metadata": {
        "id": "9Wdgzh9QKvSe"
      },
      "execution_count": null,
      "outputs": []
    },
    {
      "cell_type": "markdown",
      "source": [
        "###Pass Results into a Pandas Dataframe"
      ],
      "metadata": {
        "id": "z5T_ddNUOzvd"
      }
    },
    {
      "cell_type": "code",
      "source": [
        "import pandas as pd\n",
        "\n",
        "edits_df = pd.DataFrame.from_dict(edits, orient=\"index\")\n",
        "\n",
        "edits_df"
      ],
      "metadata": {
        "id": "wah1jNmIO4b-"
      },
      "execution_count": null,
      "outputs": []
    },
    {
      "cell_type": "code",
      "source": [
        "edits_df.index = pd.to_datetime(edits_df.index)"
      ],
      "metadata": {
        "id": "qrWlIOLXPW-k"
      },
      "execution_count": null,
      "outputs": []
    },
    {
      "cell_type": "markdown",
      "source": [
        "###Filling in Zero Values for Days Without Edits"
      ],
      "metadata": {
        "id": "z-UJP9SJQBns"
      }
    },
    {
      "cell_type": "code",
      "source": [
        "from datetime import datetime\n",
        "\n",
        "dates = pd.date_range(start=\"2009-03-08\", end=datetime.today())\n",
        "edits_df = edits_df.reindex(dates, fill_value=0)"
      ],
      "metadata": {
        "id": "CBdcN083PsJ3"
      },
      "execution_count": null,
      "outputs": []
    },
    {
      "cell_type": "code",
      "source": [
        "edits_df"
      ],
      "metadata": {
        "id": "htdmoJDDPxIw"
      },
      "execution_count": null,
      "outputs": []
    },
    {
      "cell_type": "code",
      "source": [
        "rolling_edits = edits_df.rolling(30, min_periods=30).mean()\n",
        "rolling_edits = rolling_edits.dropna()\n",
        "rolling_edits"
      ],
      "metadata": {
        "id": "4g7hbFc9QWu6"
      },
      "execution_count": null,
      "outputs": []
    },
    {
      "cell_type": "code",
      "source": [
        "rolling_edits.to_csv(\"wikipedia_edits.csv\")"
      ],
      "metadata": {
        "id": "euPhqfEXQuks"
      },
      "execution_count": null,
      "outputs": []
    }
  ]
}